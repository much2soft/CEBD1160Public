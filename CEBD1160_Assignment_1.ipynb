{
 "cells": [
  {
   "cell_type": "markdown",
   "metadata": {},
   "source": [
    "# Week 2 Assignment Basic 1."
   ]
  },
  {
   "cell_type": "code",
   "execution_count": 1,
   "metadata": {},
   "outputs": [
    {
     "name": "stdout",
     "output_type": "stream",
     "text": [
      "<class 'int'>\n"
     ]
    }
   ],
   "source": [
    "print(type(1))"
   ]
  },
  {
   "cell_type": "code",
   "execution_count": 2,
   "metadata": {
    "scrolled": true
   },
   "outputs": [
    {
     "name": "stdout",
     "output_type": "stream",
     "text": [
      "<class 'float'>\n"
     ]
    }
   ],
   "source": [
    "print(type(3.14))"
   ]
  },
  {
   "cell_type": "code",
   "execution_count": 3,
   "metadata": {},
   "outputs": [
    {
     "name": "stdout",
     "output_type": "stream",
     "text": [
      "<class 'str'>\n"
     ]
    }
   ],
   "source": [
    "print(type(\"Big Data!\"))"
   ]
  },
  {
   "cell_type": "code",
   "execution_count": 4,
   "metadata": {},
   "outputs": [
    {
     "name": "stdout",
     "output_type": "stream",
     "text": [
      "<class 'str'>\n"
     ]
    }
   ],
   "source": [
    "print(type('Big Data!'))"
   ]
  },
  {
   "cell_type": "code",
   "execution_count": 5,
   "metadata": {},
   "outputs": [
    {
     "name": "stdout",
     "output_type": "stream",
     "text": [
      "<class 'bool'>\n"
     ]
    }
   ],
   "source": [
    "print(type(True))"
   ]
  },
  {
   "cell_type": "code",
   "execution_count": 6,
   "metadata": {},
   "outputs": [
    {
     "name": "stdout",
     "output_type": "stream",
     "text": [
      "<class 'bool'>\n"
     ]
    }
   ],
   "source": [
    "print(type(False))"
   ]
  },
  {
   "cell_type": "code",
   "execution_count": 7,
   "metadata": {},
   "outputs": [
    {
     "name": "stdout",
     "output_type": "stream",
     "text": [
      "<class 'list'>\n"
     ]
    }
   ],
   "source": [
    "print(type([1,2,\"intruder\",3]))"
   ]
  },
  {
   "cell_type": "markdown",
   "metadata": {},
   "source": [
    "# Week 2 Assignment Basic 2."
   ]
  },
  {
   "cell_type": "code",
   "execution_count": 8,
   "metadata": {},
   "outputs": [
    {
     "name": "stdout",
     "output_type": "stream",
     "text": [
      "1\n",
      "2\n",
      "Fizz\n",
      "4\n",
      "Buzz\n",
      "Fizz\n",
      "7\n",
      "8\n",
      "Fizz\n",
      "Buzz\n",
      "11\n",
      "Fizz\n",
      "13\n",
      "14\n",
      "FizzBuzz\n",
      "16\n",
      "17\n",
      "Fizz\n",
      "19\n",
      "Buzz\n",
      "Fizz\n",
      "22\n",
      "23\n",
      "Fizz\n",
      "Buzz\n",
      "26\n",
      "Fizz\n",
      "28\n",
      "29\n",
      "FizzBuzz\n",
      "31\n",
      "32\n",
      "Fizz\n",
      "34\n",
      "Buzz\n",
      "Fizz\n",
      "37\n",
      "38\n",
      "Fizz\n",
      "Buzz\n",
      "41\n",
      "Fizz\n",
      "43\n",
      "44\n",
      "FizzBuzz\n",
      "46\n",
      "47\n",
      "Fizz\n",
      "49\n",
      "Buzz\n",
      "Fizz\n",
      "52\n",
      "53\n",
      "Fizz\n",
      "Buzz\n",
      "56\n",
      "Fizz\n",
      "58\n",
      "59\n",
      "FizzBuzz\n",
      "61\n",
      "62\n",
      "Fizz\n",
      "64\n",
      "Buzz\n",
      "Fizz\n",
      "67\n",
      "68\n",
      "Fizz\n",
      "Buzz\n",
      "71\n",
      "Fizz\n",
      "73\n",
      "74\n",
      "FizzBuzz\n",
      "76\n",
      "77\n",
      "Fizz\n",
      "79\n",
      "Buzz\n",
      "Fizz\n",
      "82\n",
      "83\n",
      "Fizz\n",
      "Buzz\n",
      "86\n",
      "Fizz\n",
      "88\n",
      "89\n",
      "FizzBuzz\n",
      "91\n",
      "92\n",
      "Fizz\n",
      "94\n",
      "Buzz\n",
      "Fizz\n",
      "97\n",
      "98\n",
      "Fizz\n",
      "Buzz\n"
     ]
    }
   ],
   "source": [
    "for i in range(1, 101):\n",
    "    if (i%3 == 0 and i%5 == 0):\n",
    "        print('FizzBuzz')\n",
    "    elif (i%3 == 0):\n",
    "        print('Fizz')\n",
    "    elif (i%5 == 0):\n",
    "        print('Buzz')\n",
    "    else:\n",
    "        print(i)\n",
    "    "
   ]
  },
  {
   "cell_type": "markdown",
   "metadata": {},
   "source": [
    "# Week 2 Assignment Basic 3a."
   ]
  },
  {
   "cell_type": "code",
   "execution_count": 9,
   "metadata": {},
   "outputs": [
    {
     "name": "stdout",
     "output_type": "stream",
     "text": [
      "Input a list of integers: 1,3,4,5,23,45,12,5,100\n",
      "Max = 100\n",
      "Min = 1\n"
     ]
    }
   ],
   "source": [
    "userInput = input('Input a list of integers: ')\n",
    "userList = userInput.split (',')\n",
    "\n",
    "# initialize max\n",
    "userMax = int(userList[0])\n",
    "userMin = int(userList[0])\n",
    "\n",
    "for i in range(len(userList)):\n",
    "    if int(userList[i]) > userMax:\n",
    "        userMax = int(userList[i])\n",
    "    if int(userList[i]) < userMin:\n",
    "        userMin = int(userList[i])\n",
    "\n",
    "print('Max = ' + str(userMax))\n",
    "print('Min = ' + str(userMin))\n"
   ]
  },
  {
   "cell_type": "markdown",
   "metadata": {},
   "source": [
    "# Week 2 Assignment Basic 3b."
   ]
  },
  {
   "cell_type": "code",
   "execution_count": 10,
   "metadata": {},
   "outputs": [
    {
     "name": "stdout",
     "output_type": "stream",
     "text": [
      "The sum of all multiples of 3 or 5 below 1000 is 233168\n"
     ]
    }
   ],
   "source": [
    "sum_of_multiples_of_3_or_5 = 0\n",
    "\n",
    "for i in range(1000):\n",
    "     if (i%3 == 0 or i%5 == 0):\n",
    "            sum_of_multiples_of_3_or_5 += i\n",
    "\n",
    "print('The sum of all multiples of 3 or 5 below 1000 is ' \n",
    "      + str(sum_of_multiples_of_3_or_5))\n",
    "    "
   ]
  },
  {
   "cell_type": "markdown",
   "metadata": {},
   "source": [
    "# Week 2 Assignment Basic 4."
   ]
  },
  {
   "cell_type": "code",
   "execution_count": 11,
   "metadata": {},
   "outputs": [
    {
     "name": "stdout",
     "output_type": "stream",
     "text": [
      "Give me a string to remove vowels from: Aviator\n",
      "No vowels: vtr\n"
     ]
    }
   ],
   "source": [
    "userinput = input('Give me a string to remove vowels from: ')\n",
    "vowels = 'aeiou'\n",
    "userNoVowels = ''\n",
    "\n",
    "for i in range(len(userinput)):\n",
    "    removeChar = False\n",
    "    for j in range(len(vowels)):\n",
    "        if userinput[i].lower() == vowels[j]:\n",
    "            removeChar = True\n",
    "    if not removeChar:\n",
    "        userNoVowels += userinput[i]\n",
    "\n",
    "print('No vowels: ' + userNoVowels)\n",
    "\n",
    "        "
   ]
  },
  {
   "cell_type": "markdown",
   "metadata": {},
   "source": [
    "# Week 2 Assignment Advanced 1."
   ]
  },
  {
   "cell_type": "code",
   "execution_count": 12,
   "metadata": {},
   "outputs": [
    {
     "name": "stdout",
     "output_type": "stream",
     "text": [
      "Give me a string to count characters: Babak Khosravifar\n",
      "Enter option: 1 Sort by alphabetical, or 2 Descending: 2\n",
      "sorted by items\n",
      "{'a': 4, 'b': 2, 'k': 2, 'r': 2, 'h': 1, 'o': 1, 's': 1, 'v': 1, 'i': 1, 'f': 1}\n"
     ]
    }
   ],
   "source": [
    "userinput = input('Give me a string to count characters: ')\n",
    "useroption = input('Enter option: 1 Sort by alphabetical, or 2 Descending: ')\n",
    "\n",
    "# reformat the user input to match example (remove spaces and lowercase)\n",
    "userinput = userinput.lower().replace(' ','')\n",
    "\n",
    "dictOfChars = {}\n",
    "for i in range(len(userinput)):\n",
    "    if (dictOfChars.get(userinput[i]) != None):\n",
    "        dictOfChars[userinput[i]] += 1\n",
    "    else:\n",
    "        dictOfChars[userinput[i]] = 1\n",
    "\n",
    "if (useroption=='1'):\n",
    "    sortedCharsAlphabet = {}\n",
    "    print('sorted alphabetically')\n",
    "    for key in sorted(dictOfChars.keys()):\n",
    "        sortedCharsAlphabet[key] = dictOfChars[key]\n",
    "    print(sortedCharsAlphabet)\n",
    "else:\n",
    "    sortedCharsNumber = {}\n",
    "    print('sorted by items')\n",
    "    for elem in sorted(dictOfChars.items(), key=lambda x: x[1], reverse=True, ):\n",
    "        sortedCharsNumber[elem[0]] = elem[1]\n",
    "    print(sortedCharsNumber)\n",
    "    "
   ]
  },
  {
   "cell_type": "markdown",
   "metadata": {},
   "source": [
    "# Week 2 Assignment Advanced 2."
   ]
  },
  {
   "cell_type": "code",
   "execution_count": 13,
   "metadata": {
    "scrolled": true
   },
   "outputs": [
    {
     "name": "stdout",
     "output_type": "stream",
     "text": [
      "Give me a sentence to count the words: She just went to buy the bananas (ripe ones); from the market across town! How did she do that so quickly, @frank? #speedster\n",
      "{'she': 2, 'just': 1, 'went': 1, 'to': 1, 'buy': 1, 'the': 2, 'bananas': 1, 'ripe': 1, 'ones': 1, ';': 1, 'from': 1, 'market': 1, 'across': 1, 'town': 1, 'how': 1, 'did': 1, 'do': 1, 'that': 1, 'so': 1, 'quickly': 1, 'frank': 1, 'speedster': 1}\n"
     ]
    }
   ],
   "source": [
    "userinput = input('Give me a sentence to count the words: ')\n",
    "# convert to lowercase and strip linefeeds\n",
    "userinput = userinput.lower().rstrip()\n",
    "# replace delimeters\n",
    "userinput = userinput.translate({ord(c):' ' for c in '.,!?<>()@#\\\"'})\n",
    "# split into a List\n",
    "userList = userinput.split()\n",
    "\n",
    "dictOfWords = {}\n",
    "for i in range(len(userList)):\n",
    "    if (dictOfWords.get(userList[i]) != None):\n",
    "        dictOfWords[userList[i]] = dictOfWords[userList[i]] + 1\n",
    "    else:\n",
    "        dictOfWords[userList[i]] = 1\n",
    "\n",
    "print(dictOfWords)\n"
   ]
  },
  {
   "cell_type": "markdown",
   "metadata": {},
   "source": [
    "# Week 2 Assignment Advanced 3."
   ]
  },
  {
   "cell_type": "code",
   "execution_count": 14,
   "metadata": {},
   "outputs": [
    {
     "name": "stdout",
     "output_type": "stream",
     "text": [
      "Input comma delimited words: apples, apples, oranges, 1apples, 2apples, pears,abc\n",
      "sorted alphabetically\n",
      "['1apples', '2apples', 'abc', 'apples', 'oranges', 'pears']\n"
     ]
    }
   ],
   "source": [
    "userinput = input('Input comma delimited words: ')\n",
    "# convert to lowercase\n",
    "userinput = userinput.lower()\n",
    "# split into a List from comma delimited string\n",
    "userList = userinput.split(',')\n",
    "\n",
    "dictOfWords = {}\n",
    "for i in range(len(userList)):\n",
    "    # remove spaces just in case\n",
    "    word = userList[i].strip()\n",
    "    if (dictOfWords.get(word) != None):\n",
    "        dictOfWords[word] += 1\n",
    "    else:\n",
    "        dictOfWords[word] = 1\n",
    "        \n",
    "sortedWordsAlphabet = []\n",
    "print('sorted alphabetically')\n",
    "for key in sorted(dictOfWords.keys()):\n",
    "    sortedWordsAlphabet += [key]\n",
    "print(sortedWordsAlphabet)\n"
   ]
  },
  {
   "cell_type": "markdown",
   "metadata": {},
   "source": [
    "# Week 2 Assignment Reach 1."
   ]
  },
  {
   "cell_type": "code",
   "execution_count": 15,
   "metadata": {},
   "outputs": [
    {
     "name": "stdout",
     "output_type": "stream",
     "text": [
      "Input first list of numbers separated by commas: 1,3,5,10,1.2\n",
      "Input second list of numbers separated by commas: 3,10,20,1.2\n",
      "unique combined list of numbers:\n",
      "[1, 3, 5, 10, 1.2, 20]\n"
     ]
    }
   ],
   "source": [
    "from decimal import *\n",
    "\n",
    "userinputList1 = input('Input first list of numbers separated by commas: ')\n",
    "userinputList2 = input('Input second list of numbers separated by commas: ')\n",
    "\n",
    "combinedList = userinputList1.split(',') + userinputList2.split(',')\n",
    "\n",
    "uniqueCombinedDict = {}\n",
    "# this list is for displaying results at the end\n",
    "uniqueCombinedList = []\n",
    "\n",
    "for i in range(len(combinedList)):\n",
    "    numString = combinedList[i].strip()\n",
    "    if numString != '':\n",
    "        if uniqueCombinedDict.get(Decimal(numString)) != None:\n",
    "            uniqueCombinedDict[Decimal(numString)] += 1\n",
    "        else:\n",
    "            uniqueCombinedDict[Decimal(numString)] = 1\n",
    "            # the if-else in the brackets is so that 3 looks like 3 not 3.0\n",
    "            uniqueCombinedList += [float(numString) if Decimal(numString) % 1 != 0 else \n",
    "                                   int(numString)]\n",
    "\n",
    "print('unique combined list of numbers:')\n",
    "print(uniqueCombinedList)\n"
   ]
  },
  {
   "cell_type": "markdown",
   "metadata": {},
   "source": [
    "# Week 2 Assignment Reach 2."
   ]
  },
  {
   "cell_type": "code",
   "execution_count": 16,
   "metadata": {},
   "outputs": [
    {
     "name": "stdout",
     "output_type": "stream",
     "text": [
      "Input first list of numbers separated by commas: 3,5,10,3.1,5.1\n",
      "Input second list of numbers separated by commas: 6,10,13,100,6.2,10.2,8.2\n",
      "unique combined list of numbers that are not a linear combination of any two:\n",
      "[3, 5, 3.1, 5.1]\n"
     ]
    }
   ],
   "source": [
    "from decimal import *\n",
    "\n",
    "userinputList1 = input('Input first list of numbers separated by commas: ')\n",
    "userinputList2 = input('Input second list of numbers separated by commas: ')\n",
    "\n",
    "combinedList = userinputList1.split(',') + userinputList2.split(',')\n",
    "\n",
    "# create dictionary of unique numbers\n",
    "uniqueCombinedDict = {}\n",
    "for i in range(len(combinedList)):\n",
    "    numString = combinedList[i].strip()\n",
    "    if numString != '':\n",
    "        # 0 can be written as a linear combo of any number, and cause\n",
    "        #   divide by zero error, so ignore them\n",
    "        if (Decimal(numString) != Decimal(0)):\n",
    "            if uniqueCombinedDict.get(Decimal(numString)) == None:\n",
    "                uniqueCombinedDict[Decimal(numString)] = 0\n",
    "\n",
    "# find linear combos and increase dictionary count once found\n",
    "# a*i + b*j = k\n",
    "for i in uniqueCombinedDict:\n",
    "    for j in uniqueCombinedDict:\n",
    "        if i != j:\n",
    "            for k in uniqueCombinedDict:\n",
    "                if i != k and j != k:\n",
    "                    # find a, b, looping to max possible a, b\n",
    "                    for a in range(int(k / i) + 1):\n",
    "                        for b in range(int(k / j) + 1):\n",
    "                            if (Decimal(a) * i + Decimal(b) * j) == k:\n",
    "                                uniqueCombinedDict[k] += 1\n",
    "\n",
    "# create no combo list by choosing dictionary items with no linear combo count\n",
    "uniqueCombinedNoComboList = []\n",
    "for key in uniqueCombinedDict:\n",
    "    if uniqueCombinedDict[key] == 0:\n",
    "        # the if-else in the brackets is so that 3 looks like 3 not 3.0\n",
    "        uniqueCombinedNoComboList += [float(key) if key % 1 != 0 else int(key)]\n",
    "\n",
    "print('unique combined list of numbers that are not a linear combination of any two:')\n",
    "print(uniqueCombinedNoComboList)\n"
   ]
  }
 ],
 "metadata": {
  "kernelspec": {
   "display_name": "Python 3",
   "language": "python",
   "name": "python3"
  },
  "language_info": {
   "codemirror_mode": {
    "name": "ipython",
    "version": 3
   },
   "file_extension": ".py",
   "mimetype": "text/x-python",
   "name": "python",
   "nbconvert_exporter": "python",
   "pygments_lexer": "ipython3",
   "version": "3.7.3"
  }
 },
 "nbformat": 4,
 "nbformat_minor": 2
}
