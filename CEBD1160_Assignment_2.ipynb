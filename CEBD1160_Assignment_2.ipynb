{
 "cells": [
  {
   "cell_type": "markdown",
   "metadata": {},
   "source": [
    "# Week 3 Exercises"
   ]
  },
  {
   "cell_type": "markdown",
   "metadata": {},
   "source": [
    "# Basic 1"
   ]
  },
  {
   "cell_type": "code",
   "execution_count": 13,
   "metadata": {},
   "outputs": [
    {
     "name": "stdout",
     "output_type": "stream",
     "text": [
      "[0, 1, 2, 3, 4, 5, 8, 10]\n",
      "['apple', 'orange', 'banana']\n",
      "[]\n"
     ]
    }
   ],
   "source": [
    "def removeDuplicates(inputList):\n",
    "    result = []\n",
    "    # loop through the input list\n",
    "    for i in inputList:\n",
    "        foundMatch = False\n",
    "        # check if the element is in the results\n",
    "        for j in result:\n",
    "            if i == j:\n",
    "                foundMatch = True\n",
    "        # if we can't find the element in the reuslts, add it\n",
    "        if not foundMatch:\n",
    "            result += [i]\n",
    "    return result\n",
    "\n",
    "print(removeDuplicates([0,1,2,2,3,4,5,8,10,10]))\n",
    "print(removeDuplicates(['apple','apple','orange','banana']))\n",
    "print(removeDuplicates([]))\n"
   ]
  },
  {
   "cell_type": "markdown",
   "metadata": {},
   "source": [
    "# Basic 2"
   ]
  },
  {
   "cell_type": "code",
   "execution_count": 26,
   "metadata": {},
   "outputs": [
    {
     "name": "stdout",
     "output_type": "stream",
     "text": [
      "True\n",
      "False\n",
      "True\n",
      "False\n",
      "True\n"
     ]
    }
   ],
   "source": [
    "def isNumberWithinList(orderedInputList, number):\n",
    "    # assuming the input is in order, the number must be\n",
    "    # greater than the first entry in the list and smaller than\n",
    "    # the last\n",
    "    if (number > orderedInputList[0]) and (number < orderedInputList[len(orderedInputList)-1]):\n",
    "        return True\n",
    "    return False\n",
    "\n",
    "print(isNumberWithinList([10,20,30], 15))\n",
    "print(isNumberWithinList([1,2,3], 5))\n",
    "print(isNumberWithinList([1,2], 1.5))\n",
    "print(isNumberWithinList([1], 1.5))\n",
    "print(isNumberWithinList([5,10], 8))\n"
   ]
  },
  {
   "cell_type": "markdown",
   "metadata": {},
   "source": [
    "# Basic 3"
   ]
  },
  {
   "cell_type": "code",
   "execution_count": 4,
   "metadata": {},
   "outputs": [
    {
     "name": "stdout",
     "output_type": "stream",
     "text": [
      "[4, 16, 36, 64, 100]\n"
     ]
    }
   ],
   "source": [
    "a = [1, 4, 9, 16, 25, 36, 49, 64, 81, 100]\n",
    "b = [i for i in a if i%2 == 0]\n",
    "print (b)"
   ]
  },
  {
   "cell_type": "markdown",
   "metadata": {},
   "source": [
    "# Advanced 1"
   ]
  },
  {
   "cell_type": "code",
   "execution_count": 18,
   "metadata": {},
   "outputs": [
    {
     "name": "stdout",
     "output_type": "stream",
     "text": [
      "Guess my number: 100\n",
      "higher\n",
      "Guess my number: 120\n",
      "higher\n",
      "Guess my number: 140\n",
      "close\n",
      "Guess my number: 137\n",
      "close\n",
      "Guess my number: 138\n",
      "bingo!\n"
     ]
    }
   ],
   "source": [
    "import random\n",
    "\n",
    "def guessMyNumberGame():\n",
    "    closeGuess = 3\n",
    "    wayOffGuess = 100\n",
    "    myNum = random.randint(0, 200)\n",
    "    # for comparison question:\n",
    "    # myNum = 138\n",
    "    while True:\n",
    "        userGuess = input('Guess my number: ')\n",
    "        delta = myNum - int(userGuess)\n",
    "        if delta == 0:\n",
    "            print ('bingo!')\n",
    "            return\n",
    "        if delta > wayOffGuess:\n",
    "            print ('way higher')\n",
    "        elif delta > closeGuess:\n",
    "            print ('higher')\n",
    "        elif delta < -wayOffGuess:\n",
    "            print ('way lower')\n",
    "        elif delta < -closeGuess:\n",
    "            print ('lower')\n",
    "        else:\n",
    "            print ('close')\n",
    "\n",
    "guessMyNumberGame()"
   ]
  },
  {
   "cell_type": "markdown",
   "metadata": {},
   "source": [
    "# Advanced 2"
   ]
  },
  {
   "cell_type": "code",
   "execution_count": 25,
   "metadata": {},
   "outputs": [
    {
     "name": "stdout",
     "output_type": "stream",
     "text": [
      "Think of an integer from 0 to 200 and I will try to guess it!\n",
      "Reply with one of the following:\n",
      "1 = way higher, 2 = higher, 3 = close (within 3)\n",
      "4 = way lower, 5 = lower, 0 = bingo!\n",
      "Is your number 100? 1\n",
      "Is your number 151? 2\n",
      "Is your number 164? 3\n",
      "Is your number 167? 5\n",
      "Is your number 165? 3\n",
      "Is your number 163? 3\n",
      "Is your number 162? 0\n",
      "Bingo!\n"
     ]
    }
   ],
   "source": [
    "import random\n",
    "\n",
    "\n",
    "def guessYourNumberGame():\n",
    "    # when the user says it's close, this means within this much\n",
    "    closeGuess = 3\n",
    "    # the lowest possible User number\n",
    "    lowestUser = 0\n",
    "    # the highest possible User number\n",
    "    highestUser = 200\n",
    "    # list of possible numbers\n",
    "    possibleList = list(range(lowestUser, highestUser + 1))\n",
    "    # the initial program Guess, start in the middle\n",
    "    programGuess = possibleList[len(possibleList) // 2]\n",
    "    # max guesses\n",
    "    maxGuesses = 10\n",
    "    curGuess = 0\n",
    "\n",
    "    print('Think of an integer from ' + str(lowestUser) + ' to ' + str(highestUser), end='')\n",
    "    print(' and I will try to guess it!')\n",
    "    print('Reply with one of the following:')\n",
    "    print('1 = way higher, 2 = higher, 3 = close (within ' + str(closeGuess) + ')')\n",
    "    print('4 = way lower, 5 = lower, 0 = bingo!')\n",
    "\n",
    "    while curGuess < maxGuesses:\n",
    "        # counter for the number of guesses\n",
    "        curGuess += 1\n",
    "        # get reply from user\n",
    "        userResponse = int(input('Is your number ' + str(programGuess) + '? '))\n",
    "        if userResponse == 0:\n",
    "            print('Bingo!')\n",
    "            return\n",
    "\n",
    "        # if the user says higher, then we can discard all lower possibilities\n",
    "        if userResponse == 1 or userResponse == 2:\n",
    "            possibleList = [i for i in possibleList if i > programGuess]\n",
    "        # if the user says lower, then we can discard all higher possibilities\n",
    "        if userResponse == 4 or userResponse == 5:\n",
    "            possibleList = [i for i in possibleList if i < programGuess]\n",
    "        # if the user says close, discard anything further than close to the guess\n",
    "        if userResponse == 3:\n",
    "            possibleList = [i for i in possibleList\n",
    "                            if (programGuess + closeGuess) >= i >= (programGuess - closeGuess) and i != programGuess]\n",
    "\n",
    "        # check if there's only 1 element in the possibility list, if so it must be it\n",
    "        if len(possibleList) == 1:\n",
    "            print('Your number must be ' + str(possibleList[0]) + '!')\n",
    "            return\n",
    "        # check for an empty list, something must have gone wrong!\n",
    "        if len(possibleList) == 0:\n",
    "            print('I can\\'t figure out your number!')\n",
    "            return\n",
    "\n",
    "        # now create the guess from the shortened list\n",
    "        if userResponse == 1 or userResponse == 4:\n",
    "            # guess the middle of the list of they say way higher or way lower\n",
    "            programGuess = possibleList[len(possibleList) // 2]\n",
    "        elif userResponse == 2:\n",
    "            # guess 1/4 of the way into the list if they say higher\n",
    "            programGuess = possibleList[len(possibleList) // 4]\n",
    "        elif userResponse == 5:\n",
    "            # guess 3/4 of the way into the list if they say lower\n",
    "            programGuess = possibleList[3 * len(possibleList) // 4]\n",
    "        elif userResponse == 3:\n",
    "            # close, so take a random entry from the possible list because we just know it's close\n",
    "            randomIndex = random.randint(0, len(possibleList) - 1)\n",
    "            programGuess = possibleList[randomIndex]\n",
    "        else:\n",
    "            print('unknown option!')\n",
    "\n",
    "    print('Too many guesses!')\n",
    "\n",
    "\n",
    "guessYourNumberGame()\n"
   ]
  },
  {
   "cell_type": "markdown",
   "metadata": {},
   "source": [
    "# Advanced 3"
   ]
  },
  {
   "cell_type": "code",
   "execution_count": 20,
   "metadata": {},
   "outputs": [
    {
     "name": "stdout",
     "output_type": "stream",
     "text": [
      "Guess my number: 100\n",
      "higher\n",
      "Guess my number: 120\n",
      "higher\n",
      "Hint: the number is even!\n",
      "Hint: the number is divisible by 3!\n",
      "Guess my number: 138\n",
      "bingo!\n"
     ]
    }
   ],
   "source": [
    "import random\n",
    "\n",
    "def guessMyNumberGameExtra():\n",
    "    maxGuessNum = 10\n",
    "    currentGuessNum = 0\n",
    "    closeGuess = 3\n",
    "    wayOffGuess = 100\n",
    "    myNum = random.randint(0, 200)\n",
    "    # for comparison question:\n",
    "    # myNum = 138\n",
    "    while currentGuessNum < maxGuessNum:\n",
    "        userGuess = input('Guess my number: ')\n",
    "        delta = myNum - int(userGuess)\n",
    "        currentGuessNum += 1\n",
    "        wayOff = False\n",
    "        if delta == 0:\n",
    "            print ('bingo!')\n",
    "            return\n",
    "        if delta > wayOffGuess:\n",
    "            wayOff = True\n",
    "            print ('way higher')\n",
    "        elif delta > closeGuess:\n",
    "            print ('higher')\n",
    "        elif delta < -wayOffGuess:\n",
    "            wayOff = True\n",
    "            print ('way lower')\n",
    "        elif delta < -closeGuess:\n",
    "            print ('lower')\n",
    "        else:\n",
    "            print ('close')\n",
    "        if not wayOff and currentGuessNum >= 2:\n",
    "            if myNum%2 == 0:\n",
    "                print ('Hint: the number is even!')\n",
    "            else:\n",
    "                print ('Hint: the number is odd!')\n",
    "            if myNum%3 == 0:\n",
    "                print ('Hint: the number is divisible by 3!')\n",
    "            else:\n",
    "                print ('Hint: the number is not divisible by 3')\n",
    "    print('too many guesses!')\n",
    "                \n",
    "\n",
    "guessMyNumberGameExtra()"
   ]
  },
  {
   "cell_type": "markdown",
   "metadata": {},
   "source": [
    "When you give a hint of even and divisible by three, it reduces the number of guesses when you get close to the number since it reduces the possibilities.  In this case, if the number is 138 and you follow a +20 guess strategy, the number of guesses is only 3 since the nearest even and divisible by 3 value that is +20 from 120 is 138.  This is a lot less than the number of guesses in Advanced 1 which was 5."
   ]
  },
  {
   "cell_type": "markdown",
   "metadata": {},
   "source": [
    "# Advanced 4"
   ]
  },
  {
   "cell_type": "code",
   "execution_count": 27,
   "metadata": {},
   "outputs": [
    {
     "name": "stdout",
     "output_type": "stream",
     "text": [
      "Think of an integer from 0 to 200 and I will try to guess it!\n",
      "Reply with one of the following:\n",
      "1 = way higher, 2 = higher, 3 = close (within 3)\n",
      "4 = way lower, 5 = lower, 0 = bingo!\n",
      "Is your number 100? 1\n",
      "Is your number 151? 2\n",
      "Is your number even? (y/n): y\n",
      "Is your number 164? 3\n",
      "Is your number divisible by 3? (y/n): y\n",
      "Your number must be 162!\n"
     ]
    }
   ],
   "source": [
    "import random\n",
    "\n",
    "\n",
    "def guessYourNumberGameExtra():\n",
    "    # when the user says it's close, this means within this much\n",
    "    closeGuess = 3\n",
    "    # the lowest possible User number\n",
    "    lowestUser = 0\n",
    "    # the highest possible User number\n",
    "    highestUser = 200\n",
    "    # list of possible numbers\n",
    "    possibleList = list(range(lowestUser, highestUser + 1))\n",
    "    # the initial program Guess, start in the middle\n",
    "    programGuess = possibleList[len(possibleList) // 2]\n",
    "    # max guesses\n",
    "    maxGuesses = 10\n",
    "    curGuess = 0\n",
    "    hintAfterGuess = 2\n",
    "    # hints\n",
    "    askedEven = False\n",
    "    askedDivisibleByThree = False\n",
    "\n",
    "    print('Think of an integer from ' + str(lowestUser) + ' to ' + str(highestUser), end='')\n",
    "    print(' and I will try to guess it!')\n",
    "    print('Reply with one of the following:')\n",
    "    print('1 = way higher, 2 = higher, 3 = close (within ' + str(closeGuess) + ')')\n",
    "    print('4 = way lower, 5 = lower, 0 = bingo!')\n",
    "\n",
    "    while curGuess < maxGuesses:\n",
    "        # counter for the number of guesses\n",
    "        curGuess += 1\n",
    "        # get reply from user\n",
    "        userResponse = int(input('Is your number ' + str(programGuess) + '? '))\n",
    "        if userResponse == 0:\n",
    "            print('Bingo!')\n",
    "            return\n",
    "\n",
    "        # ask the odd even hint and remove impossible elements from list\n",
    "        if curGuess >= hintAfterGuess and not askedEven:\n",
    "            userResponseStr = input('Is your number even? (y/n): ')\n",
    "            if userResponseStr.lower() == 'y':\n",
    "                possibleList = [i for i in possibleList if i % 2 == 0]\n",
    "            else:\n",
    "                possibleList = [i for i in possibleList if i % 2 != 0]\n",
    "            askedEven = True\n",
    "        elif curGuess >= hintAfterGuess and not askedDivisibleByThree:\n",
    "            # ask the divisible by 3 hint and remove impossible elements from list\n",
    "            userResponseStr = input('Is your number divisible by 3? (y/n): ')\n",
    "            if userResponseStr.lower() == 'y':\n",
    "                possibleList = [i for i in possibleList if i % 3 == 0]\n",
    "            else:\n",
    "                possibleList = [i for i in possibleList if i % 3 != 0]\n",
    "            askedDivisibleByThree = True\n",
    "\n",
    "        # if the user says higher, then we can discard all lower possibilities\n",
    "        if userResponse == 1 or userResponse == 2:\n",
    "            possibleList = [i for i in possibleList if i > programGuess]\n",
    "        # if the user says lower, then we can discard all higher possibilities\n",
    "        if userResponse == 4 or userResponse == 5:\n",
    "            possibleList = [i for i in possibleList if i < programGuess]\n",
    "        # if the user says close, discard anything further than close to the guess\n",
    "        if userResponse == 3:\n",
    "            possibleList = [i for i in possibleList\n",
    "                            if (programGuess + closeGuess) >= i >= (programGuess - closeGuess)\n",
    "                            and i != programGuess]\n",
    "\n",
    "        # check if there's only 1 element in the possibility list, if so it must be it\n",
    "        if len(possibleList) == 1:\n",
    "            print('Your number must be ' + str(possibleList[0]) + '!')\n",
    "            return\n",
    "        # check for an empty list, something must have gone wrong!\n",
    "        if len(possibleList) == 0:\n",
    "            print('I can\\'t figure out your number!')\n",
    "            return\n",
    "\n",
    "        # now create the guess from the shortened list\n",
    "        if userResponse == 1 or userResponse == 4:\n",
    "            # guess the middle of the list of they say way higher or way lower\n",
    "            programGuess = possibleList[len(possibleList) // 2]\n",
    "        elif userResponse == 2:\n",
    "            # guess 1/4 of the way into the list if they say higher\n",
    "            programGuess = possibleList[len(possibleList) // 4]\n",
    "        elif userResponse == 5:\n",
    "            # guess 3/4 of the way into the list if they say lower\n",
    "            programGuess = possibleList[3 * len(possibleList) // 4]\n",
    "        elif userResponse == 3:\n",
    "            # close, so take a random entry from the possible list because we just know it's close\n",
    "            randomIndex = random.randint(0, len(possibleList) - 1)\n",
    "            programGuess = possibleList[randomIndex]\n",
    "        else:\n",
    "            print('unknown option!')\n",
    "\n",
    "    print('Too many guesses!')\n",
    "\n",
    "\n",
    "guessYourNumberGameExtra()\n"
   ]
  },
  {
   "cell_type": "markdown",
   "metadata": {},
   "source": [
    "When comparing the total number of questions to the same game without the hints for number 162, with hints we have a total of 5 questions but only 3 guesses, while without the hints we had 7 guesses (Advanced 2).  But since both games use a random guess when the answer is close, this difference could vary."
   ]
  }
 ],
 "metadata": {
  "kernelspec": {
   "display_name": "Python 3",
   "language": "python",
   "name": "python3"
  },
  "language_info": {
   "codemirror_mode": {
    "name": "ipython",
    "version": 3
   },
   "file_extension": ".py",
   "mimetype": "text/x-python",
   "name": "python",
   "nbconvert_exporter": "python",
   "pygments_lexer": "ipython3",
   "version": "3.7.3"
  }
 },
 "nbformat": 4,
 "nbformat_minor": 2
}
